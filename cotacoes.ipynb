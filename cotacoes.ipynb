{
 "cells": [
  {
   "cell_type": "markdown",
   "id": "ea52dc50",
   "metadata": {},
   "source": [
    "# **Atualizar cotações de moedas usando API**"
   ]
  },
  {
   "cell_type": "markdown",
   "id": "df7e520e",
   "metadata": {},
   "source": [
    "### Importar"
   ]
  },
  {
   "cell_type": "code",
   "execution_count": 3,
   "id": "b8b8c98e",
   "metadata": {},
   "outputs": [],
   "source": [
    "import requests\n",
    "import pandas as pd\n",
    "from datetime import datetime\n",
    "import time"
   ]
  },
  {
   "cell_type": "markdown",
   "id": "a6d7b029",
   "metadata": {},
   "source": [
    "### Requisições e Preenchimento de Planilha"
   ]
  },
  {
   "cell_type": "code",
   "execution_count": null,
   "id": "606e9ec5",
   "metadata": {},
   "outputs": [
    {
     "name": "stdout",
     "output_type": "stream",
     "text": [
      "A cotação foi atualizada com sucesso.2022-09-15 23:30:22.954952\n",
      "A cotação foi atualizada com sucesso.2022-09-15 23:31:23.214939\n",
      "A cotação foi atualizada com sucesso.2022-09-15 23:32:23.419437\n",
      "A cotação foi atualizada com sucesso.2022-09-15 23:33:23.659283\n",
      "A cotação foi atualizada com sucesso.2022-09-15 23:34:23.870449\n",
      "A cotação foi atualizada com sucesso.2022-09-15 23:35:24.028015\n"
     ]
    }
   ],
   "source": [
    "while True:\n",
    "# Requisições\n",
    "    requisicao = requests.get(\"https://economia.awesomeapi.com.br/last/USD-BRL,EUR-BRL,BTC-BRL\")\n",
    "\n",
    "    requisicao_dic = requisicao.json()\n",
    "    cotacao_dolar = requisicao_dic[\"USDBRL\"][\"bid\"]\n",
    "    cotacao_euro = requisicao_dic[\"EURBRL\"][\"bid\"]\n",
    "    cotacao_btc = requisicao_dic[\"BTCBRL\"][\"bid\"]\n",
    "    \n",
    "# Preenchimento da Planilha\n",
    "    tabela = pd.read_excel(\"cotacoes.xlsx\")\n",
    "    tabela.loc[0, \"Cotação\"] = float(cotacao_dolar)\n",
    "    tabela.loc[1, \"Cotação\"] = float(cotacao_euro)\n",
    "    tabela.loc[2, \"Cotação\"] = float(cotacao_btc) * 1000\n",
    "    tabela.loc[0, \"Data última atualização\"] = datetime.now()\n",
    "\n",
    "    tabela.to_excel(\"cotacoes.xlsx\", index=False)\n",
    "    print(f\"A cotação foi atualizada com sucesso.{datetime.now()}\")\n",
    "    \n",
    "    time.sleep(60)\n",
    "    "
   ]
  }
 ],
 "metadata": {
  "kernelspec": {
   "display_name": "Python 3 (ipykernel)",
   "language": "python",
   "name": "python3"
  },
  "language_info": {
   "codemirror_mode": {
    "name": "ipython",
    "version": 3
   },
   "file_extension": ".py",
   "mimetype": "text/x-python",
   "name": "python",
   "nbconvert_exporter": "python",
   "pygments_lexer": "ipython3",
   "version": "3.9.12"
  }
 },
 "nbformat": 4,
 "nbformat_minor": 5
}
